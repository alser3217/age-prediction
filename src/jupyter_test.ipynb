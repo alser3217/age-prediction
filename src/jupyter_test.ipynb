{
 "cells": [
  {
   "cell_type": "code",
   "execution_count": 76,
   "metadata": {},
   "outputs": [
    {
     "name": "stdout",
     "output_type": "stream",
     "text": [
      "[21.94489375935786, 22.899315175693193, 13.166823890484242, 14.249454344016083, 16.847231926024804]\n",
      "[11.463999867466558, 10.848874793346486, 10.31540327933633, 10.471823720143185, 11.047140317343947]\n",
      "[21.680873327419256, 20.376737480420505, 13.052715268907194, 14.057094146243696, 14.063475491948822]\n",
      "[1.5880469775453907e+17, 3.594339012128989e+17, 6.234787191438153e+16, 1.6097354517478198e+17, 1.597952356402194e+17]\n",
      "[15.272305500068011, 15.596083764947021, 15.661102918908542, 15.89615454234385, 16.01736705699762]\n",
      "[15.392750173499556, 15.14244204505552, 12.522466635698608, 12.569679335258902, 12.534408516321482]\n",
      "[12.033501968034216, 11.599699347354798, 11.583872915875885, 11.397660916592901, 10.564594947962291]\n"
     ]
    }
   ],
   "source": [
    "import pandas as pd\n",
    "import numpy as np\n",
    "from sklearn.ensemble import RandomForestRegressor\n",
    "from sklearn.linear_model import LinearRegression, ElasticNet, SGDRegressor, BayesianRidge\n",
    "from sklearn.svm import SVR\n",
    "from sklearn.model_selection import RepeatedStratifiedKFold, KFold, StratifiedKFold\n",
    "from sklearn.metrics import mean_absolute_error\n",
    "from catboost import CatBoostRegressor\n",
    "import matplotlib.pyplot as plt\n",
    "\n",
    "import numpy as np\n",
    "import matplotlib.pyplot as plt\n",
    "\n",
    "%matplotlib inline\n",
    "\n",
    "def cross_evaluate(model, dataset, n_folds, features, target):\n",
    "\n",
    "    result = []\n",
    "\n",
    "    for i in range(0, n_folds):\n",
    "        dataset_train = dataset[dataset.Fold == i]\n",
    "        dataset_test = dataset[dataset.Fold != i]\n",
    "\n",
    "        dataset_X_train = dataset_train[features]\n",
    "        dataset_y_train = dataset_train[target]\n",
    "\n",
    "        dataset_X_test = dataset_test[features]\n",
    "        dataset_y_test = dataset_test[target]\n",
    "\n",
    "        model.fit(dataset_X_train, dataset_y_train.values.ravel())\n",
    "\n",
    "        y_pred = model.predict(dataset_X_test)\n",
    "\n",
    "        result.append(mean_absolute_error(dataset_y_test, y_pred))\n",
    "\n",
    "    return result\n",
    "\n",
    "def create_folds(df, n_s=5, n_grp=None):\n",
    "    df['Fold'] = -1\n",
    "    \n",
    "    if n_grp is None:\n",
    "        skf = KFold(n_splits=n_s)\n",
    "        target = df.Age\n",
    "    else:\n",
    "        skf = StratifiedKFold(n_splits=n_s)\n",
    "        df['grp'] = pd.cut(df.Age, n_grp, labels=False)\n",
    "        target = df.grp\n",
    "    \n",
    "    for fold_no, (t, v) in enumerate(skf.split(target, target)):\n",
    "        df.loc[v, 'Fold'] = fold_no\n",
    "    return df\n",
    "\n",
    "path = \"../datasets/media-1.xlsx\"\n",
    "\n",
    "SEED = 43\n",
    "\n",
    "immunology = pd.read_excel(path, skiprows=1)\n",
    "\n",
    "immunology['Fold'] = -1\n",
    "features = ['CXCL9', 'CCL22', 'IL6', 'CSF1', 'PDGFB', 'CCL4', 'CXCL10', 'PDGFA', 'CCL2', 'IL1RA']\n",
    "target = ['Age']\n",
    "immunology = create_folds(immunology, n_s=5, n_grp=10)\n",
    "\n",
    "model1 = LinearRegression()\n",
    "model2 = RandomForestRegressor()\n",
    "model3 = ElasticNet()\n",
    "model4 = SGDRegressor()\n",
    "model5 = SVR()\n",
    "model6 = BayesianRidge()\n",
    "model7 = CatBoostRegressor(learning_rate=0.1, silent=True, loss_function='Quantile')\n",
    "\n",
    "print(cross_evaluate(model1, immunology, 5, features, target))\n",
    "print(cross_evaluate(model2, immunology, 5, features, target))\n",
    "print(cross_evaluate(model3, immunology, 5, features, target))\n",
    "print(cross_evaluate(model4, immunology, 5, features, target))\n",
    "print(cross_evaluate(model5, immunology, 5, features, target))\n",
    "print(cross_evaluate(model6, immunology, 5, features, target))\n",
    "print(cross_evaluate(model7, immunology, 5, features, target))"
   ]
  }
 ],
 "metadata": {
  "kernelspec": {
   "display_name": "Python 3.10.8 ('age-prediction-venv')",
   "language": "python",
   "name": "python3"
  },
  "language_info": {
   "codemirror_mode": {
    "name": "ipython",
    "version": 3
   },
   "file_extension": ".py",
   "mimetype": "text/x-python",
   "name": "python",
   "nbconvert_exporter": "python",
   "pygments_lexer": "ipython3",
   "version": "3.10.8"
  },
  "orig_nbformat": 4,
  "vscode": {
   "interpreter": {
    "hash": "2af85aca43274326ecf7b05f36f35046ef3794ae273823e540f59e0288163aeb"
   }
  }
 },
 "nbformat": 4,
 "nbformat_minor": 2
}
